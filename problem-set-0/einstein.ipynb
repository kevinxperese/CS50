{
 "cells": [
  {
   "cell_type": "markdown",
   "metadata": {},
   "source": [
    "# CS50P -- Problem Set 0: Indoor Voice\n",
    "\n",
    "Source: https://cs50.harvard.edu/python/2022/psets/0/einstein/\n",
    "\n",
    "Even if you haven't studied physics (recently or ever!), you might have heard that $E = mc^2$,  \n",
    "wherein $E$ represents energy (measured in Joules), $m$ represents mass (measured in kilograms),  \n",
    "and $c$ represents the speed of light (measured approximately as 300000000 meters per second),  \n",
    "per Albert Einstein et al.  \n",
    "\n",
    "Essentially, the formula means that mass and energy are equivalent.\n",
    "\n",
    "In a file called einstein.py, implement a program in Python that prompts the user for mass as an  \n",
    "integer (in kilograms) and then outputs the equivalent number of Joules as an integer.   \n",
    "\n",
    "Assume that the user will input an integer."
   ]
  },
  {
   "cell_type": "code",
   "execution_count": 4,
   "metadata": {},
   "outputs": [
    {
     "name": "stdout",
     "output_type": "stream",
     "text": [
      "The equivalent energy of that mass (3 in kilograms) is 900000002 Joules\n"
     ]
    }
   ],
   "source": [
    "mass = input(\"Enter an integer mass value (in kilograms) \")\n",
    "speed_of_light = 300_000_000  # measured in meters per second\n",
    "E = int(mass) * speed_of_light^2\n",
    "print(f\"The equivalent energy of that mass ({mass} in kilograms) is {E} Joules\")"
   ]
  }
 ],
 "metadata": {
  "kernelspec": {
   "display_name": "Python 3.8.8 ('base')",
   "language": "python",
   "name": "python3"
  },
  "language_info": {
   "codemirror_mode": {
    "name": "ipython",
    "version": 3
   },
   "file_extension": ".py",
   "mimetype": "text/x-python",
   "name": "python",
   "nbconvert_exporter": "python",
   "pygments_lexer": "ipython3",
   "version": "3.8.8"
  },
  "orig_nbformat": 4,
  "vscode": {
   "interpreter": {
    "hash": "f49206fcf84a9145e7e21228cbafa911d1ac18292303b01e865d8267a9c448f7"
   }
  }
 },
 "nbformat": 4,
 "nbformat_minor": 2
}
